{
 "cells": [
  {
   "cell_type": "code",
   "execution_count": 1,
   "id": "8965a09a",
   "metadata": {},
   "outputs": [],
   "source": [
    "import numpy as np \n",
    "import matplotlib.pyplot as plt\n",
    "import math\n",
    "import nnfs\n",
    "from  nnfs.datasets import vertical_data\n",
    "nnfs.init()\n",
    "\n",
    "\n"
   ]
  },
  {
   "cell_type": "code",
   "execution_count": null,
   "id": "c379038a",
   "metadata": {},
   "outputs": [],
   "source": [
    "weights = np.array([-3.0,-1.0,2.0])\n",
    "bias = 1.0 \n",
    "inputs = np.array([1.0,-2.0,3.0])\n",
    "target_output=0.0\n",
    "learnig_rate =0.001\n",
    "\n",
    "\n",
    "def Activation_ReLU(x):\n",
    "    return np.maximum(x,0)\n",
    "\n",
    "\n",
    "def ReLu_derivative(x):\n",
    "    return np.where(x>0,1.0,0.0)\n",
    "\n",
    "\n",
    "\n",
    "for iteration in range(200):\n",
    "    \n",
    "    # forward pass \n",
    "    linear_output = np.dot(weights,inputs)  +bias \n",
    "    relu_output = Activation_ReLU(linear_output)\n",
    "    loss = (relu_output - target_output)**2\n",
    "    \n",
    "    \n",
    "    #backward pass \n",
    "    dloss_drelu_output=2*(relu_output - target_output)\n",
    "    drelu_output_dlinear=ReLu_derivative(linear_output)\n",
    "    dlinear_dweights = inputs\n",
    "    dlinear_dbias=1.0\n",
    "    \n",
    "    \n",
    "    dloss_dlinear=dloss_drelu_output * drelu_output_dlinear\n",
    "    dloss_dweight = dloss_dlinear*dlinear_dweights\n",
    "    dloss_dbias = dloss_dlinear*dlinear_dbias\n",
    "    \n",
    "    weights -= learnig_rate*dloss_dweight\n",
    "    bias -= learnig_rate*dloss_dbias\n",
    "    \n",
    "    print(f\"Iteration {iteration + 1}, Loss:{loss}\")\n",
    "    \n",
    "    \n",
    "    \n",
    "print(\"Final weight :\",weights)\n",
    "print(\"Final bias \",bias)\n",
    "    \n",
    "    \n",
    "    \n",
    "    \n",
    "    \n",
    "    \n",
    "    "
   ]
  },
  {
   "cell_type": "code",
   "execution_count": null,
   "id": "ed0f1183",
   "metadata": {},
   "outputs": [],
   "source": []
  }
 ],
 "metadata": {
  "kernelspec": {
   "display_name": "base",
   "language": "python",
   "name": "python3"
  },
  "language_info": {
   "codemirror_mode": {
    "name": "ipython",
    "version": 3
   },
   "file_extension": ".py",
   "mimetype": "text/x-python",
   "name": "python",
   "nbconvert_exporter": "python",
   "pygments_lexer": "ipython3",
   "version": "3.12.4"
  }
 },
 "nbformat": 4,
 "nbformat_minor": 5
}
